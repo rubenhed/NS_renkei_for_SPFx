{
 "cells": [
  {
   "cell_type": "code",
   "execution_count": 26,
   "metadata": {},
   "outputs": [],
   "source": [
    "from dotenv import load_dotenv\n",
    "load_dotenv()\n",
    "import os\n",
    "from requests_oauthlib import OAuth1Session\n",
    "from oauthlib import oauth1\n",
    "# import requests\n",
    "\n",
    "C_KEY = os.environ[f\"NS_CONSUMER_KEY_SB\"]\n",
    "C_SECRET = os.environ[f\"NS_CONSUMER_SECRET_SB\"]\n",
    "T_ACCESS = os.environ[f\"NS_ACCESS_TOKEN_SB\"]\n",
    "T_SECRET = os.environ[f\"NS_TOKEN_SECRET_SB\"]\n",
    "NS_REALM = \"6317455_SB1\"\n",
    "\n",
    "queryurl_ns = \"https://6317455-sb1.suitetalk.api.netsuite.com/services/rest/query/v1/suiteql\"\n",
    "resturl = \"https://6317455-sb1.suitetalk.api.netsuite.com/services/rest/record/v1/file\"\n",
    "\n",
    "ns_sess = OAuth1Session(\n",
    "  client_key=C_KEY,\n",
    "  client_secret=C_SECRET,\n",
    "  resource_owner_key=T_ACCESS,\n",
    "  resource_owner_secret=T_SECRET,\n",
    "  realm=NS_REALM,\n",
    "  signature_method=oauth1.SIGNATURE_HMAC_SHA256\n",
    ")\n",
    "\n",
    "ns_sess.headers.update({\n",
    "  \"Prefer\": \"transient\",\n",
    "  \"Content-Type\": \"application/json\",\n",
    "  \"Accept-Language\": \"ja\",\n",
    "  \"Content-Language\": \"en\"\n",
    "})\n"
   ]
  },
  {
   "cell_type": "code",
   "execution_count": 27,
   "metadata": {},
   "outputs": [
    {
     "data": {
      "text/plain": [
       "<Response [400]>"
      ]
     },
     "execution_count": 27,
     "metadata": {},
     "output_type": "execute_result"
    }
   ],
   "source": [
    "file_path = \"test123.pdf\"\n",
    "FOLDER_ID = 20056\n",
    "\n",
    "with open(file_path, \"rb\") as file:\n",
    "  files = {\n",
    "        \"file\": (os.path.basename(file_path), file, \"application/pdf\"),  # Ensure correct MIME type\n",
    "        \"name\": (None, os.path.basename(file_path)),  # File name in NetSuite\n",
    "        \"folder\": (None, str(FOLDER_ID))  # Folder ID must be a string\n",
    "    }\n",
    "\n",
    "  # Make the request\n",
    "  response = ns_sess.post(url=resturl, files=files)\n",
    "\n",
    "response"
   ]
  },
  {
   "cell_type": "code",
   "execution_count": 28,
   "metadata": {},
   "outputs": [
    {
     "data": {
      "text/plain": [
       "{'type': 'https://www.rfc-editor.org/rfc/rfc9110.html#section-15.5.1',\n",
       " 'title': 'Bad Request',\n",
       " 'status': 400,\n",
       " 'o:errorDetails': [{'detail': 'Invalid content in the request body.',\n",
       "   'o:errorCode': 'INVALID_CONTENT'}]}"
      ]
     },
     "execution_count": 28,
     "metadata": {},
     "output_type": "execute_result"
    }
   ],
   "source": [
    "response.json()"
   ]
  }
 ],
 "metadata": {
  "kernelspec": {
   "display_name": "Python 3",
   "language": "python",
   "name": "python3"
  },
  "language_info": {
   "codemirror_mode": {
    "name": "ipython",
    "version": 3
   },
   "file_extension": ".py",
   "mimetype": "text/x-python",
   "name": "python",
   "nbconvert_exporter": "python",
   "pygments_lexer": "ipython3",
   "version": "3.12.6"
  }
 },
 "nbformat": 4,
 "nbformat_minor": 2
}
